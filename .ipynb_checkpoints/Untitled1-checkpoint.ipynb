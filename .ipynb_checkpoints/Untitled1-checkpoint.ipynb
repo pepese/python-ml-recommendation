{
 "cells": [
  {
   "cell_type": "code",
   "execution_count": 2,
   "metadata": {},
   "outputs": [
    {
     "name": "stdout",
     "output_type": "stream",
     "text": [
      "scores.shape: (5000, 100)\n",
      "scores[0]: \n",
      "[-1.  0. -1.  4.  2. -1. -1. -1. -1. -1. -1. -1.  1. -1. -1. -1. -1. -1.\n",
      " -1. -1. -1. -1. -1. -1. -1. -1. -1. -1. -1. -1. -1. -1. -1. -1. -1. -1.\n",
      " -1. -1. -1. -1. -1. -1. -1. -1.  1. -1. -1. -1. -1. -1. -1. -1. -1. -1.\n",
      " -1. -1. -1. -1.  4. -1.  2. -1. -1. -1. -1. -1. -1.  0. -1. -1. -1. -1.\n",
      " -1. -1.  0. -1. -1. -1. -1. -1. -1. -1. -1. -1. -1. -1. -1.  2. -1. -1.\n",
      " -1. -1. -1. -1. -1. -1. -1. -1. -1. -1.]\n"
     ]
    }
   ],
   "source": [
    "import numpy as np\n",
    "\n",
    "scores = np.loadtxt('sushi3-2016/sushi3b.5000.10.score', delimiter=' ')\n",
    "\n",
    "print('scores.shape: {}'.format(scores.shape))\n",
    "# scores.shape: (5000, 100)\n",
    "\n",
    "print('scores[0]: \\n{}'.format(scores[0]))"
   ]
  },
  {
   "cell_type": "code",
   "execution_count": null,
   "metadata": {
    "collapsed": true
   },
   "outputs": [],
   "source": [
    "def get_correlation_coefficents(scores, target_user_index):\n",
    "    similarities = []\n",
    "    target = scores[target_user_index]\n",
    "\n",
    "    for i, score in enumerate(scores):\n",
    "        # 共通の評価が少ない（3未満）、自分自身場合は除外\n",
    "        indices = np.where(((target + 1) * (score + 1)) != 0)[0]\n",
    "        if len(indices) < 3 or i == target_user_index:\n",
    "            continue\n",
    "\n",
    "        similarity = np.corrcoef(target[indices], score[indices])[0, 1]\n",
    "        if np.isnan(similarity):\n",
    "            continue\n",
    "\n",
    "        similarities.append((i, similarity))\n",
    "\n",
    "    return sorted(similarities, key=lambda s: s[1], reverse=True)\n",
    "\n",
    "\n",
    "target_user_index = 0 # 0番目のユーザ\n",
    "similarities = get_correlation_coefficents(scores, target_user_index)\n",
    "\n",
    "print('Similarities: {}'.format(similarities))\n",
    "# Similarities: [(186, 1.0), (269, 1.0), (381, 1.0), ...\n",
    "\n",
    "print('scores[186]:\\n{}'.format(scores[186]))"
   ]
  }
 ],
 "metadata": {
  "kernelspec": {
   "display_name": "Python 3",
   "language": "python",
   "name": "python3"
  },
  "language_info": {
   "codemirror_mode": {
    "name": "ipython",
    "version": 3
   },
   "file_extension": ".py",
   "mimetype": "text/x-python",
   "name": "python",
   "nbconvert_exporter": "python",
   "pygments_lexer": "ipython3",
   "version": "3.6.1"
  }
 },
 "nbformat": 4,
 "nbformat_minor": 2
}
