{
 "cells": [
  {
   "cell_type": "code",
   "execution_count": 5,
   "metadata": {},
   "outputs": [
    {
     "name": "stdout",
     "output_type": "stream",
     "text": [
      "scores.shape: (5000, 100)\n",
      "scores[0]: \n",
      "[-1.  0. -1.  4.  2. -1. -1. -1. -1. -1. -1. -1.  1. -1. -1. -1. -1. -1.\n",
      " -1. -1. -1. -1. -1. -1. -1. -1. -1. -1. -1. -1. -1. -1. -1. -1. -1. -1.\n",
      " -1. -1. -1. -1. -1. -1. -1. -1.  1. -1. -1. -1. -1. -1. -1. -1. -1. -1.\n",
      " -1. -1. -1. -1.  4. -1.  2. -1. -1. -1. -1. -1. -1.  0. -1. -1. -1. -1.\n",
      " -1. -1.  0. -1. -1. -1. -1. -1. -1. -1. -1. -1. -1. -1. -1.  2. -1. -1.\n",
      " -1. -1. -1. -1. -1. -1. -1. -1. -1. -1.]\n"
     ]
    }
   ],
   "source": [
    "import numpy as np\n",
    "\n",
    "scores = np.loadtxt('sushi3-2016/sushi3b.5000.10.score', delimiter=' ')\n",
    "\n",
    "print('scores.shape: {}'.format(scores.shape))\n",
    "# scores.shape: (5000, 100)\n",
    "\n",
    "print('scores[0]: \\n{}'.format(scores[0]))"
   ]
  },
  {
   "cell_type": "code",
   "execution_count": 26,
   "metadata": {},
   "outputs": [
    {
     "name": "stdout",
     "output_type": "stream",
     "text": [
      "end\n"
     ]
    }
   ],
   "source": [
    "def convert(input_file_name):\n",
    "    \"\"\"\n",
    "    'ユーザID アイテムID 評価値'のフォーマットへ変換してファイルに出力する\n",
    "    \"\"\"\n",
    "    output_file_name = input_file_name + '_converted' # 変換後のファイル名\n",
    "    output = ''\n",
    "    \n",
    "    with open(input_file_name, mode='r') as f:\n",
    "        lines = f.readlines()\n",
    "        \n",
    "        user_id = 0\n",
    "        for line in lines:\n",
    "            words = line.strip().split(' ')\n",
    "            for item_id, word in enumerate(words):\n",
    "                score = int(word)\n",
    "                if score != -1:\n",
    "                    output += '{0:04d} {1:02d} {2:01d}\\n'.format(user_id, item_id, score)\n",
    "                    \n",
    "            user_id += 1\n",
    "    \n",
    "    with open(output_file_name, mode='w') as f:\n",
    "        f.write(output)\n",
    "    \n",
    "    return output_file_name\n",
    "\n",
    "\n",
    "output_file_name = convert('sushi3-2016/sushi3b.5000.10.score')\n",
    "\n",
    "from surprise import Reader, Dataset\n",
    "\n",
    "reader = Reader(line_format='user item rating', sep=' ')\n",
    "dataset = Dataset.load_from_file(output_file_name, reader=reader)\n",
    "\n",
    "trainset = dataset.build_full_trainset()\n",
    "print('end')"
   ]
  },
  {
   "cell_type": "code",
   "execution_count": 29,
   "metadata": {},
   "outputs": [
    {
     "name": "stdout",
     "output_type": "stream",
     "text": [
      "Computing the pearson similarity matrix...\n",
      "Done computing similarity matrix.\n",
      "Predicted rating(User: 0000, Item: 92): 1.00\n"
     ]
    }
   ],
   "source": [
    "from surprise import KNNBasic\n",
    "\n",
    "sim_options = {\n",
    "    'name': 'pearson',\n",
    "    'user_based': True\n",
    "}\n",
    "algo = KNNBasic(k=5, min_k=1,sim_options=sim_options)\n",
    "algo.train(trainset)\n",
    "\n",
    "user_id = '{:04d}'.format(0)\n",
    "item_id = '{:02d}'.format(92)\n",
    "\n",
    "pred = algo.predict(uid=user_id, iid=item_id)\n",
    "print('Predicted rating(User: {0}, Item: {1}): {2:.2f}'.format(pred.uid, pred.iid, pred.est))"
   ]
  },
  {
   "cell_type": "code",
   "execution_count": 30,
   "metadata": {},
   "outputs": [
    {
     "name": "stdout",
     "output_type": "stream",
     "text": [
      "Computing the cosine similarity matrix...\n",
      "Done computing similarity matrix.\n",
      "Predicted rating(User: 0000, Item: 92): 1.40\n"
     ]
    },
    {
     "name": "stderr",
     "output_type": "stream",
     "text": [
      "/Users/tanakakns/.anyenv/envs/pyenv/versions/3.6.1/lib/python3.6/site-packages/surprise/prediction_algorithms/algo_base.py:231: RuntimeWarning: invalid value encountered in double_scalars\n",
      "  sim = construction_func[name](*args)\n"
     ]
    }
   ],
   "source": [
    "from surprise import KNNBasic\n",
    "\n",
    "sim_options = {\n",
    "    'name': 'cosine',\n",
    "    'user_based': False\n",
    "}\n",
    "algo = KNNBasic(k=5, min_k=1,sim_options=sim_options)\n",
    "algo.train(trainset)\n",
    "\n",
    "user_id = '{:04d}'.format(0)\n",
    "item_id = '{:02d}'.format(92)\n",
    "\n",
    "pred = algo.predict(uid=user_id, iid=item_id)\n",
    "print('Predicted rating(User: {0}, Item: {1}): {2:.2f}'.format(pred.uid, pred.iid, pred.est))"
   ]
  },
  {
   "cell_type": "code",
   "execution_count": 32,
   "metadata": {},
   "outputs": [
    {
     "name": "stdout",
     "output_type": "stream",
     "text": [
      "Predicted rating(User: 0000, Item: 92): 1.52\n"
     ]
    }
   ],
   "source": [
    "from surprise import SVD\n",
    "\n",
    "algo = SVD()\n",
    "algo.train(trainset)\n",
    "\n",
    "user_id = '{:04d}'.format(0)\n",
    "item_id = '{:02d}'.format(92)\n",
    "\n",
    "pred = algo.predict(uid=user_id, iid=item_id)\n",
    "print('Predicted rating(User: {0}, Item: {1}): {2:.2f}'.format(pred.uid, pred.iid, pred.est))"
   ]
  },
  {
   "cell_type": "code",
   "execution_count": null,
   "metadata": {
    "collapsed": true
   },
   "outputs": [],
   "source": []
  }
 ],
 "metadata": {
  "kernelspec": {
   "display_name": "Python 3",
   "language": "python",
   "name": "python3"
  },
  "language_info": {
   "codemirror_mode": {
    "name": "ipython",
    "version": 3
   },
   "file_extension": ".py",
   "mimetype": "text/x-python",
   "name": "python",
   "nbconvert_exporter": "python",
   "pygments_lexer": "ipython3",
   "version": "3.6.1"
  }
 },
 "nbformat": 4,
 "nbformat_minor": 2
}
